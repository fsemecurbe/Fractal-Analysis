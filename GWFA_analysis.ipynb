{
 "cells": [
  {
   "cell_type": "code",
   "execution_count": 2,
   "metadata": {},
   "outputs": [],
   "source": [
    "!pip install -q -q -q geopandas\n",
    "!pip install -q -q -q rasterio\n",
    "!pip install -q -q -q py7zr"
   ]
  },
  {
   "cell_type": "code",
   "execution_count": 1,
   "metadata": {},
   "outputs": [],
   "source": [
    "import geopandas as gpd\n",
    "import pandas as pd\n",
    "import numpy as np\n",
    "\n",
    "import rasterio\n",
    "from rasterio import features\n",
    "\n",
    "from sklearn.linear_model import LinearRegression\n",
    "from sklearn.neighbors import KDTree\n",
    "from sklearn.neighbors import RadiusNeighborsRegressor"
   ]
  },
  {
   "cell_type": "markdown",
   "metadata": {},
   "source": [
    "Chargement des fonctions et des données"
   ]
  },
  {
   "cell_type": "code",
   "execution_count": 2,
   "metadata": {},
   "outputs": [],
   "source": [
    "def rasterizeBlackWhite(sdf, size, points=True):\n",
    "    \"\"\"sdf : a geopandas DataFrame\n",
    "       size : resolution\n",
    "       points : if points is true return a pandas DataFrame, otherwise a numpy array\"\"\"\n",
    "    bounds = sdf.total_bounds\n",
    "    geometry = sdf.geometry\n",
    "    xmin = np.floor(bounds[0] / size) * size\n",
    "    ymin = np.floor(bounds[1] / size) * size\n",
    "    xmax = np.ceil(bounds[2] / size) * size\n",
    "    ymax = np.ceil(bounds[3] / size) * size\n",
    "    geometry = geometry.translate(xoff=-xmin, yoff=-ymin, zoff=0.0)\n",
    "    geometry = geometry.scale(xfact=1/size,yfact=1/size,origin=(0,0))\n",
    "    width = int((xmax - xmin)/size)\n",
    "    height = int((ymax - ymin)/size)\n",
    "    raster = features.rasterize(geometry, (height,width),fill=0,all_touched=True)\n",
    "    if points==True:\n",
    "        y, x = np.where(raster) \n",
    "        return(pd.DataFrame({'x' : x * size + xmin , 'y' : y * size + ymin}))\n",
    "    else:\n",
    "        return(np.flip(raster.reshape(raster.shape[0], raster.shape[1]),0))"
   ]
  },
  {
   "cell_type": "code",
   "execution_count": 18,
   "metadata": {},
   "outputs": [],
   "source": [
    "def neighbors_near_point(df, list_of_radius):\n",
    "    neighbors = np.zeros([df.shape[0],list_of_radius.size],dtype=np.float)\n",
    "    tree = KDTree(df[['x', 'y']]) \n",
    "    dist, ind = tree.query(df[['x', 'y']], np.max(list_of_radius))   \n",
    "    for i, r in enumerate(list_of_radius):\n",
    "        neighbors[:,i] =list(map(lambda x : np.sum(x <= r), dist)) \n",
    "    result = pd.DataFrame(neighbors)\n",
    "    result.columns = [str(t) for t in list_of_radius]\n",
    "    return(pd.concat([df[['x', 'y']].reset_index(), result], axis=1))"
   ]
  },
  {
   "cell_type": "code",
   "execution_count": 4,
   "metadata": {},
   "outputs": [],
   "source": [
    "bocage = gpd.read_file('building_bocage.gpkg')\n",
    "openfield = gpd.read_file('building_openfield.gpkg')"
   ]
  },
  {
   "cell_type": "markdown",
   "metadata": {},
   "source": [
    "### Rasterization des fonds à 4 m"
   ]
  },
  {
   "cell_type": "code",
   "execution_count": 19,
   "metadata": {},
   "outputs": [],
   "source": [
    "r_openfield = rasterizeBlackWhite(openfield, 4)"
   ]
  },
  {
   "cell_type": "code",
   "execution_count": 6,
   "metadata": {},
   "outputs": [],
   "source": [
    "r_bocage = rasterizeBlackWhite(bocage, 4)"
   ]
  },
  {
   "cell_type": "markdown",
   "metadata": {},
   "source": [
    "### Calcul des voisinages"
   ]
  },
  {
   "cell_type": "code",
   "execution_count": null,
   "metadata": {},
   "outputs": [],
   "source": [
    "neigh_openfield = neighbors_near_point(r_openfield, np.array([25,50,100,200,400,800,1600])) "
   ]
  },
  {
   "cell_type": "code",
   "execution_count": null,
   "metadata": {},
   "outputs": [],
   "source": [
    "neigh_bocage = neighbors_near_point(r_bocage, np.array([25,50,100,200,400,800,1600])) "
   ]
  },
  {
   "cell_type": "markdown",
   "metadata": {},
   "source": [
    "### Calcul de la GWFA en un point"
   ]
  },
  {
   "cell_type": "code",
   "execution_count": null,
   "metadata": {},
   "outputs": [],
   "source": [
    "def Gwfa_en_un_point(df, x_centre, y_centre, q):\n",
    "    distance = (df.x - x_centre)** 2 + (df.y - y_centre)**2\n",
    "    weight = (1 - (distance / 16000**2))**2\n",
    "    \n"
   ]
  },
  {
   "cell_type": "code",
   "execution_count": null,
   "metadata": {},
   "outputs": [],
   "source": []
  },
  {
   "cell_type": "code",
   "execution_count": null,
   "metadata": {},
   "outputs": [],
   "source": []
  },
  {
   "cell_type": "code",
   "execution_count": 8,
   "metadata": {},
   "outputs": [],
   "source": [
    "df = r_openfield.copy()\n",
    "list_of_radius = np.array([25,50,100,200,400,800,1600])"
   ]
  },
  {
   "cell_type": "code",
   "execution_count": 9,
   "metadata": {},
   "outputs": [],
   "source": [
    "neighbors = np.zeros([df.shape[0],list_of_radius.size],dtype=np.float)"
   ]
  },
  {
   "cell_type": "code",
   "execution_count": 10,
   "metadata": {},
   "outputs": [],
   "source": [
    "tree = KDTree(df[['x', 'y']]) "
   ]
  },
  {
   "cell_type": "code",
   "execution_count": 12,
   "metadata": {},
   "outputs": [],
   "source": [
    "dist, ind = tree.query(df[['x', 'y']], np.max(list_of_radius))   "
   ]
  },
  {
   "cell_type": "code",
   "execution_count": 17,
   "metadata": {},
   "outputs": [],
   "source": [
    "for i, r in enumerate(list_of_radius):\n",
    "    neighbors[:,i] =list(map(lambda x : np.sum( x <= r), dist)) "
   ]
  },
  {
   "cell_type": "code",
   "execution_count": null,
   "metadata": {},
   "outputs": [],
   "source": []
  }
 ],
 "metadata": {
  "kernelspec": {
   "display_name": "Python 3",
   "language": "python",
   "name": "python3"
  },
  "language_info": {
   "codemirror_mode": {
    "name": "ipython",
    "version": 3
   },
   "file_extension": ".py",
   "mimetype": "text/x-python",
   "name": "python",
   "nbconvert_exporter": "python",
   "pygments_lexer": "ipython3",
   "version": "3.7.6"
  }
 },
 "nbformat": 4,
 "nbformat_minor": 4
}
