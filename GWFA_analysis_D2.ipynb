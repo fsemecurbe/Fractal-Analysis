{
 "cells": [
  {
   "cell_type": "code",
   "execution_count": 1,
   "metadata": {},
   "outputs": [],
   "source": [
    "!pip install -q -q -q geopandas\n",
    "!pip install -q -q -q rasterio\n",
    "!pip install -q -q -q py7zr"
   ]
  },
  {
   "cell_type": "code",
   "execution_count": 34,
   "metadata": {},
   "outputs": [],
   "source": [
    "import geopandas as gpd\n",
    "import pandas as pd\n",
    "import numpy as np\n",
    "import matplotlib.pyplot as plt\n",
    "\n",
    "import rasterio\n",
    "from rasterio import features\n",
    "\n",
    "from sklearn.linear_model import LinearRegression\n",
    "from sklearn.neighbors import KDTree\n",
    "from sklearn.neighbors import RadiusNeighborsRegressor"
   ]
  },
  {
   "cell_type": "markdown",
   "metadata": {},
   "source": [
    "Chargement des fonctions et des données"
   ]
  },
  {
   "cell_type": "code",
   "execution_count": 3,
   "metadata": {},
   "outputs": [],
   "source": [
    "def rasterizeBlackWhite(sdf, size, points=True):\n",
    "    \"\"\"sdf : a geopandas DataFrame\n",
    "       size : resolution\n",
    "       points : if points is true return a pandas DataFrame, otherwise a numpy array\"\"\"\n",
    "    bounds = sdf.total_bounds\n",
    "    geometry = sdf.geometry\n",
    "    xmin = np.floor(bounds[0] / size) * size\n",
    "    ymin = np.floor(bounds[1] / size) * size\n",
    "    xmax = np.ceil(bounds[2] / size) * size\n",
    "    ymax = np.ceil(bounds[3] / size) * size\n",
    "    geometry = geometry.translate(xoff=-xmin, yoff=-ymin, zoff=0.0)\n",
    "    geometry = geometry.scale(xfact=1/size,yfact=1/size,origin=(0,0))\n",
    "    width = int((xmax - xmin)/size)\n",
    "    height = int((ymax - ymin)/size)\n",
    "    raster = features.rasterize(geometry, (height,width),fill=0,all_touched=True)\n",
    "    if points==True:\n",
    "        y, x = np.where(raster) \n",
    "        return(pd.DataFrame({'x' : x * size + xmin , 'y' : y * size + ymin}))\n",
    "    else:\n",
    "        return(np.flip(raster.reshape(raster.shape[0], raster.shape[1]),0))"
   ]
  },
  {
   "cell_type": "code",
   "execution_count": 4,
   "metadata": {},
   "outputs": [],
   "source": [
    "def neighbors_near_point(df, list_of_radius):\n",
    "    neighbors = np.zeros([df.shape[0],list_of_radius.size],dtype=np.float)\n",
    "    tree = KDTree(df[['x', 'y']]) \n",
    "    dist, ind = tree.query(df[['x', 'y']], np.max(list_of_radius))   \n",
    "    for i, r in enumerate(list_of_radius):\n",
    "        neighbors[:,i] =list(map(lambda x : np.sum(x <= r), dist)) \n",
    "    result = pd.DataFrame(neighbors)\n",
    "    result.columns = [str(t) for t in list_of_radius]\n",
    "    return(pd.concat([df[['x', 'y']].reset_index(), result], axis=1))\n",
    "\n",
    "\n",
    "def neighbors_near_point(df, list_of_radius):\n",
    "    neighbors = np.zeros([df.shape[0],list_of_radius.size],dtype=np.float)\n",
    "    tree = KDTree(df[['x', 'y']]) \n",
    "    for i, r in enumerate(list_of_radius):\n",
    "        print(r)\n",
    "        neighbors[:,i] = tree.query_radius(df[['x', 'y']], r= r, count_only=True) \n",
    "    result = pd.DataFrame(neighbors)\n",
    "    result.columns = [str(t) for t in list_of_radius]\n",
    "    return(pd.concat([df[['x', 'y']].reset_index(), result], axis=1))\n"
   ]
  },
  {
   "cell_type": "code",
   "execution_count": 29,
   "metadata": {},
   "outputs": [],
   "source": [
    "def Gwfa_en_un_point(df, x_centre, y_centre, list_of_radius):\n",
    "    \n",
    "    distance = (df.x - x_centre)** 2 + (df.y - y_centre)**2\n",
    "    weight =  (1 - (distance / 16000**2))**2\n",
    "    weight = weight / weight.sum()\n",
    "    print(weight.sum())\n",
    "    temp = df[[str(t) for t in list_of_radius]]\n",
    "    temp = temp.mul(weight, axis=0)\n",
    "    temp = pd.DataFrame({'radius': list_of_radius, 'sb': np.sum(temp,0)})\n",
    "    return(temp)"
   ]
  },
  {
   "cell_type": "markdown",
   "metadata": {},
   "source": [
    "### Calcul bocage"
   ]
  },
  {
   "cell_type": "code",
   "execution_count": 6,
   "metadata": {},
   "outputs": [],
   "source": [
    "list_of_radius = np.array([25,50,100,200,400,800,1600])"
   ]
  },
  {
   "cell_type": "code",
   "execution_count": 7,
   "metadata": {},
   "outputs": [],
   "source": [
    "bocage = gpd.read_file('building_bocage.gpkg')\n",
    "r_bocage = rasterizeBlackWhite(bocage, 4)"
   ]
  },
  {
   "cell_type": "code",
   "execution_count": 8,
   "metadata": {},
   "outputs": [
    {
     "name": "stdout",
     "output_type": "stream",
     "text": [
      "25\n",
      "50\n",
      "100\n",
      "200\n",
      "400\n",
      "800\n",
      "1600\n"
     ]
    }
   ],
   "source": [
    "neigh_bocage = neighbors_near_point(r_bocage, list_of_radius)"
   ]
  },
  {
   "cell_type": "code",
   "execution_count": 30,
   "metadata": {},
   "outputs": [
    {
     "name": "stdout",
     "output_type": "stream",
     "text": [
      "1.0\n"
     ]
    }
   ],
   "source": [
    "sb_bocage = Gwfa_en_un_point(neigh_bocage,387380,6893920, list_of_radius)"
   ]
  },
  {
   "cell_type": "code",
   "execution_count": 31,
   "metadata": {},
   "outputs": [
    {
     "data": {
      "text/html": [
       "<div>\n",
       "<style scoped>\n",
       "    .dataframe tbody tr th:only-of-type {\n",
       "        vertical-align: middle;\n",
       "    }\n",
       "\n",
       "    .dataframe tbody tr th {\n",
       "        vertical-align: top;\n",
       "    }\n",
       "\n",
       "    .dataframe thead th {\n",
       "        text-align: right;\n",
       "    }\n",
       "</style>\n",
       "<table border=\"1\" class=\"dataframe\">\n",
       "  <thead>\n",
       "    <tr style=\"text-align: right;\">\n",
       "      <th></th>\n",
       "      <th>radius</th>\n",
       "      <th>sb</th>\n",
       "    </tr>\n",
       "  </thead>\n",
       "  <tbody>\n",
       "    <tr>\n",
       "      <th>25</th>\n",
       "      <td>25</td>\n",
       "      <td>42.086167</td>\n",
       "    </tr>\n",
       "    <tr>\n",
       "      <th>50</th>\n",
       "      <td>50</td>\n",
       "      <td>106.975866</td>\n",
       "    </tr>\n",
       "    <tr>\n",
       "      <th>100</th>\n",
       "      <td>100</td>\n",
       "      <td>263.030533</td>\n",
       "    </tr>\n",
       "    <tr>\n",
       "      <th>200</th>\n",
       "      <td>200</td>\n",
       "      <td>650.141158</td>\n",
       "    </tr>\n",
       "    <tr>\n",
       "      <th>400</th>\n",
       "      <td>400</td>\n",
       "      <td>1734.477364</td>\n",
       "    </tr>\n",
       "    <tr>\n",
       "      <th>800</th>\n",
       "      <td>800</td>\n",
       "      <td>4954.924984</td>\n",
       "    </tr>\n",
       "    <tr>\n",
       "      <th>1600</th>\n",
       "      <td>1600</td>\n",
       "      <td>14497.676566</td>\n",
       "    </tr>\n",
       "  </tbody>\n",
       "</table>\n",
       "</div>"
      ],
      "text/plain": [
       "      radius            sb\n",
       "25        25     42.086167\n",
       "50        50    106.975866\n",
       "100      100    263.030533\n",
       "200      200    650.141158\n",
       "400      400   1734.477364\n",
       "800      800   4954.924984\n",
       "1600    1600  14497.676566"
      ]
     },
     "execution_count": 31,
     "metadata": {},
     "output_type": "execute_result"
    }
   ],
   "source": [
    "sb_bocage"
   ]
  },
  {
   "cell_type": "code",
   "execution_count": 32,
   "metadata": {},
   "outputs": [
    {
     "data": {
      "text/plain": [
       "array([ 1.39546394, -0.82073591])"
      ]
     },
     "execution_count": 32,
     "metadata": {},
     "output_type": "execute_result"
    }
   ],
   "source": [
    "lsb_bocage = np.log(sb_bocage)\n",
    "d = np.polyfit(lsb_bocage['radius'],lsb_bocage['sb'],1)\n",
    "f = np.poly1d(d)\n",
    "lsb_bocage['line'] = f(lsb_bocage['radius'])\n",
    "d"
   ]
  },
  {
   "cell_type": "code",
   "execution_count": 50,
   "metadata": {},
   "outputs": [
    {
     "name": "stderr",
     "output_type": "stream",
     "text": [
      "findfont: Font family ['normal'] not found. Falling back to DejaVu Sans.\n"
     ]
    },
    {
     "data": {
      "image/png": "[encoded data removed]",
      "text/plain": [
       "<Figure size 720x504 with 1 Axes>"
      ]
     },
     "metadata": {
      "needs_background": "light"
     },
     "output_type": "display_data"
    }
   ],
   "source": [
    "sb_bocage['exp_line'] = np.exp(lsb_bocage['line'])\n",
    "font = {'family' : 'normal',\n",
    "        'weight' : 'normal',\n",
    "        'size'   : 15}\n",
    "import matplotlib\n",
    "matplotlib.rc('font', **font)\n",
    "ax = sb_bocage.plot.scatter('radius','sb', loglog=True, figsize=(10,7),s=50)\n",
    "ax.set_xlim((20, 1700))\n",
    "ax.set_ylim((sb_bocage.sb.min()-10, sb_openfield.sb.max()+10000))\n",
    "sb_bocage.plot.line('radius', 'exp_line',color='Red',ax=ax, legend=False)\n",
    "plt.grid(which='both')\n",
    "ax.set_xlabel('Diamètre du voisinage (en m.)')\n",
    "ax.set_ylabel('Mr(i)')\n",
    "plt.savefig(\"GWFA_D2_bocage.svg\")"
   ]
  },
  {
   "cell_type": "markdown",
   "metadata": {},
   "source": [
    "### Calcul openfield"
   ]
  },
  {
   "cell_type": "code",
   "execution_count": 40,
   "metadata": {},
   "outputs": [],
   "source": [
    "openfield = gpd.read_file('building_openfield.gpkg')\n",
    "r_openfield = rasterizeBlackWhite(openfield, 4)"
   ]
  },
  {
   "cell_type": "code",
   "execution_count": 41,
   "metadata": {},
   "outputs": [
    {
     "name": "stdout",
     "output_type": "stream",
     "text": [
      "25\n",
      "50\n",
      "100\n",
      "200\n",
      "400\n",
      "800\n",
      "1600\n"
     ]
    }
   ],
   "source": [
    "neigh_openfield = neighbors_near_point(r_openfield, list_of_radius)"
   ]
  },
  {
   "cell_type": "code",
   "execution_count": 42,
   "metadata": {},
   "outputs": [
    {
     "name": "stdout",
     "output_type": "stream",
     "text": [
      "1.0000000000000004\n"
     ]
    }
   ],
   "source": [
    "sb_openfield = Gwfa_en_un_point(neigh_openfield,786645,6879505, list_of_radius)"
   ]
  },
  {
   "cell_type": "code",
   "execution_count": 43,
   "metadata": {},
   "outputs": [
    {
     "data": {
      "text/plain": [
       "array([ 1.45275527, -0.38418562])"
      ]
     },
     "execution_count": 43,
     "metadata": {},
     "output_type": "execute_result"
    }
   ],
   "source": [
    "lsb_openfield = np.log(sb_openfield)\n",
    "d = np.polyfit(lsb_openfield['radius'],lsb_openfield['sb'],1)\n",
    "f = np.poly1d(d)\n",
    "lsb_openfield['line'] = f(lsb_openfield['radius'])\n",
    "d"
   ]
  },
  {
   "cell_type": "code",
   "execution_count": 51,
   "metadata": {},
   "outputs": [
    {
     "data": {
      "image/png": "[encoded data removed]",
      "text/plain": [
       "<Figure size 720x504 with 1 Axes>"
      ]
     },
     "metadata": {
      "needs_background": "light"
     },
     "output_type": "display_data"
    }
   ],
   "source": [
    "sb_openfield['exp_line'] = np.exp(lsb_openfield['line'])\n",
    "font = {'family' : 'normal',\n",
    "        'weight' : 'normal',\n",
    "        'size'   : 15}\n",
    "import matplotlib\n",
    "matplotlib.rc('font', **font)\n",
    "ax = sb_openfield.plot.scatter('radius','sb', loglog=True, figsize=(10,7),s=50)\n",
    "ax.set_xlim((20, 1700))\n",
    "ax.set_ylim((sb_bocage.sb.min()-10, sb_openfield.sb.max()+10000))\n",
    "sb_openfield.plot.line('radius', 'exp_line',color='Red',ax=ax, legend=False)\n",
    "plt.grid(which='both')\n",
    "ax.set_xlabel('Diamètre du voisinage (en m.)')\n",
    "ax.set_ylabel('Mr(i)')\n",
    "plt.savefig(\"GWFA_D2_openfield.svg\")"
   ]
  },
  {
   "cell_type": "code",
   "execution_count": null,
   "metadata": {},
   "outputs": [],
   "source": []
  },
  {
   "cell_type": "code",
   "execution_count": null,
   "metadata": {},
   "outputs": [],
   "source": []
  },
  {
   "cell_type": "markdown",
   "metadata": {},
   "source": [
    "### Rasterization des fonds à 4 m"
   ]
  },
  {
   "cell_type": "code",
   "execution_count": 5,
   "metadata": {},
   "outputs": [
    {
     "ename": "NameError",
     "evalue": "name 'openfield' is not defined",
     "output_type": "error",
     "traceback": [
      "\u001b[0;31m---------------------------------------------------------------------------\u001b[0m",
      "\u001b[0;31mNameError\u001b[0m                                 Traceback (most recent call last)",
      "\u001b[0;32m<ipython-input-5-3b1ef4aa4b7a>\u001b[0m in \u001b[0;36m<module>\u001b[0;34m\u001b[0m\n\u001b[0;32m----> 1\u001b[0;31m \u001b[0mr_openfield\u001b[0m \u001b[0;34m=\u001b[0m \u001b[0mrasterizeBlackWhite\u001b[0m\u001b[0;34m(\u001b[0m\u001b[0mopenfield\u001b[0m\u001b[0;34m,\u001b[0m \u001b[0;36m4\u001b[0m\u001b[0;34m)\u001b[0m\u001b[0;34m\u001b[0m\u001b[0;34m\u001b[0m\u001b[0m\n\u001b[0m",
      "\u001b[0;31mNameError\u001b[0m: name 'openfield' is not defined"
     ]
    }
   ],
   "source": [
    "r_openfield = rasterizeBlackWhite(openfield, 4)"
   ]
  },
  {
   "cell_type": "code",
   "execution_count": 6,
   "metadata": {},
   "outputs": [],
   "source": []
  },
  {
   "cell_type": "markdown",
   "metadata": {},
   "source": [
    "### Calcul des voisinages"
   ]
  },
  {
   "cell_type": "code",
   "execution_count": null,
   "metadata": {},
   "outputs": [],
   "source": [
    "neigh_openfield = neighbors_near_point(r_openfield, np.array([25,50,100,200,400,800,1600])) "
   ]
  },
  {
   "cell_type": "code",
   "execution_count": null,
   "metadata": {},
   "outputs": [],
   "source": []
  },
  {
   "cell_type": "code",
   "execution_count": null,
   "metadata": {},
   "outputs": [],
   "source": []
  },
  {
   "cell_type": "code",
   "execution_count": null,
   "metadata": {},
   "outputs": [],
   "source": []
  },
  {
   "cell_type": "markdown",
   "metadata": {},
   "source": [
    "### Calcul de la GWFA en un point"
   ]
  },
  {
   "cell_type": "code",
   "execution_count": null,
   "metadata": {},
   "outputs": [],
   "source": [
    "def Gwfa_en_un_point(df, x_centre, y_centre, q):\n",
    "    distance = (df.x - x_centre)** 2 + (df.y - y_centre)**2\n",
    "    weight = (1 - (distance / 16000**2))**2\n",
    "    \n"
   ]
  },
  {
   "cell_type": "code",
   "execution_count": null,
   "metadata": {},
   "outputs": [],
   "source": []
  },
  {
   "cell_type": "code",
   "execution_count": null,
   "metadata": {},
   "outputs": [],
   "source": []
  },
  {
   "cell_type": "code",
   "execution_count": 8,
   "metadata": {},
   "outputs": [],
   "source": [
    "df = r_openfield.copy()\n",
    "list_of_radius = np.array([25,50,100,200,400,800,1600])"
   ]
  },
  {
   "cell_type": "code",
   "execution_count": 9,
   "metadata": {},
   "outputs": [],
   "source": [
    "neighbors = np.zeros([df.shape[0],list_of_radius.size],dtype=np.float)"
   ]
  },
  {
   "cell_type": "code",
   "execution_count": 10,
   "metadata": {},
   "outputs": [],
   "source": [
    "tree = KDTree(df[['x', 'y']]) "
   ]
  },
  {
   "cell_type": "code",
   "execution_count": 12,
   "metadata": {},
   "outputs": [],
   "source": [
    "dist, ind = tree.query(df[['x', 'y']], np.max(list_of_radius))   "
   ]
  },
  {
   "cell_type": "code",
   "execution_count": 17,
   "metadata": {},
   "outputs": [],
   "source": [
    "for i, r in enumerate(list_of_radius):\n",
    "    neighbors[:,i] =list(map(lambda x : np.sum( x <= r), dist)) "
   ]
  },
  {
   "cell_type": "code",
   "execution_count": null,
   "metadata": {},
   "outputs": [],
   "source": []
  }
 ],
 "metadata": {
  "kernelspec": {
   "display_name": "Python 3",
   "language": "python",
   "name": "python3"
  },
  "language_info": {
   "codemirror_mode": {
    "name": "ipython",
    "version": 3
   },
   "file_extension": ".py",
   "mimetype": "text/x-python",
   "name": "python",
   "nbconvert_exporter": "python",
   "pygments_lexer": "ipython3",
   "version": "3.7.6"
  }
 },
 "nbformat": 4,
 "nbformat_minor": 4
}
