{
 "cells": [
  {
   "cell_type": "code",
   "execution_count": 1,
   "metadata": {},
   "outputs": [],
   "source": [
    "#!pip install -q -q -q geopandas\n",
    "#!pip install -q -q -q contextily"
   ]
  },
  {
   "cell_type": "markdown",
   "metadata": {},
   "source": [
    "In this notebook, we describe the sandbox analysis of spatial distribution of buildings."
   ]
  },
  {
   "cell_type": "code",
   "execution_count": 2,
   "metadata": {},
   "outputs": [],
   "source": [
    "import numpy as np\n",
    "import pandas as pd\n",
    "\n",
    "import geopandas as gpd\n",
    "#import contextily as ctx\n",
    "import matplotlib.pyplot as plt\n",
    "\n",
    "from sklearn.linear_model import LinearRegression\n",
    "from sklearn.neighbors import KDTree"
   ]
  },
  {
   "cell_type": "markdown",
   "metadata": {},
   "source": [
    "Load the built-up areas"
   ]
  },
  {
   "cell_type": "code",
   "execution_count": 3,
   "metadata": {},
   "outputs": [],
   "source": [
    "bocage = pd.read_csv('bocage_ign_2012.csv')\n",
    "openfield = pd.read_csv('openfield_ign_2012.csv')"
   ]
  },
  {
   "cell_type": "markdown",
   "metadata": {},
   "source": [
    "Display the two spatial distributions of building :"
   ]
  },
  {
   "cell_type": "code",
   "execution_count": 4,
   "metadata": {},
   "outputs": [],
   "source": [
    "s_bocage = gpd.GeoDataFrame(bocage, geometry=gpd.points_from_xy(bocage.x, bocage.y), crs='EPSG:2154')\n",
    "s_openfield = gpd.GeoDataFrame(openfield, geometry=gpd.points_from_xy(openfield.x, openfield.y), crs='EPSG:2154')"
   ]
  },
  {
   "cell_type": "markdown",
   "metadata": {},
   "source": [
    "First of all, we have to calculate the neigbhors near each building for several radius."
   ]
  },
  {
   "cell_type": "code",
   "execution_count": 5,
   "metadata": {},
   "outputs": [],
   "source": [
    "def neighbors_near_point(df, list_of_radius):\n",
    "    neighbors = np.zeros([df.shape[0],list_of_radius.size],dtype=np.float)\n",
    "    for i, r in enumerate(list_of_radius):\n",
    "        tree = KDTree(df[['x', 'y']]) \n",
    "        neighbors[:,i] = tree.query_radius(df[['x', 'y']], r= r, count_only=True)\n",
    "    result = pd.DataFrame(neighbors)\n",
    "    result.columns = [str(t) for t in list_of_radius]\n",
    "    return(result)"
   ]
  },
  {
   "cell_type": "code",
   "execution_count": 6,
   "metadata": {},
   "outputs": [
    {
     "name": "stderr",
     "output_type": "stream",
     "text": [
      "C:\\Users\\FRANCO~1.SEM\\AppData\\Local\\Temp/ipykernel_18132/1271688115.py:2: DeprecationWarning: `np.float` is a deprecated alias for the builtin `float`. To silence this warning, use `float` by itself. Doing this will not modify any behavior and is safe. If you specifically wanted the numpy scalar type, use `np.float64` here.\n",
      "Deprecated in NumPy 1.20; for more details and guidance: https://numpy.org/devdocs/release/1.20.0-notes.html#deprecations\n",
      "  neighbors = np.zeros([df.shape[0],list_of_radius.size],dtype=np.float)\n",
      "C:\\Users\\FRANCO~1.SEM\\AppData\\Local\\Temp/ipykernel_18132/1271688115.py:2: DeprecationWarning: `np.float` is a deprecated alias for the builtin `float`. To silence this warning, use `float` by itself. Doing this will not modify any behavior and is safe. If you specifically wanted the numpy scalar type, use `np.float64` here.\n",
      "Deprecated in NumPy 1.20; for more details and guidance: https://numpy.org/devdocs/release/1.20.0-notes.html#deprecations\n",
      "  neighbors = np.zeros([df.shape[0],list_of_radius.size],dtype=np.float)\n"
     ]
    }
   ],
   "source": [
    "radius_range = np.array([50, 100, 200, 400, 800])\n",
    "bocage_neighbor = neighbors_near_point(bocage, radius_range)\n",
    "openfield_neighbor = neighbors_near_point(openfield, radius_range)"
   ]
  },
  {
   "cell_type": "markdown",
   "metadata": {},
   "source": [
    "Now, we can compute the generalized dimensions."
   ]
  },
  {
   "cell_type": "code",
   "execution_count": 7,
   "metadata": {},
   "outputs": [],
   "source": [
    "def entropy(neighbor,q):\n",
    "    if q!=1:\n",
    "        return(np.log2(np.sum(neighbor**(q-1)))/(q-1))\n",
    "    else:\n",
    "        return(np.sum(np.log2(neighbor)) /neighbor.shape[0] )\n",
    "\n",
    "def scale_function(neighbor, list_of_q):\n",
    "    resultat = []\n",
    "    for q in list_of_q:\n",
    "        resultat.append(entropy(neighbor, q))   \n",
    "    result = pd.concat(resultat, axis=1)\n",
    "    result = result.transpose()\n",
    "    result['q'] = list_of_q\n",
    "    return(result)"
   ]
  },
  {
   "cell_type": "code",
   "execution_count": 8,
   "metadata": {},
   "outputs": [
    {
     "data": {
      "text/html": [
       "<div>\n",
       "<style scoped>\n",
       "    .dataframe tbody tr th:only-of-type {\n",
       "        vertical-align: middle;\n",
       "    }\n",
       "\n",
       "    .dataframe tbody tr th {\n",
       "        vertical-align: top;\n",
       "    }\n",
       "\n",
       "    .dataframe thead th {\n",
       "        text-align: right;\n",
       "    }\n",
       "</style>\n",
       "<table border=\"1\" class=\"dataframe\">\n",
       "  <thead>\n",
       "    <tr style=\"text-align: right;\">\n",
       "      <th></th>\n",
       "      <th>50</th>\n",
       "      <th>100</th>\n",
       "      <th>200</th>\n",
       "      <th>400</th>\n",
       "      <th>800</th>\n",
       "    </tr>\n",
       "  </thead>\n",
       "  <tbody>\n",
       "    <tr>\n",
       "      <th>0</th>\n",
       "      <td>2.0</td>\n",
       "      <td>3.0</td>\n",
       "      <td>4.0</td>\n",
       "      <td>8.0</td>\n",
       "      <td>94.0</td>\n",
       "    </tr>\n",
       "    <tr>\n",
       "      <th>1</th>\n",
       "      <td>1.0</td>\n",
       "      <td>1.0</td>\n",
       "      <td>8.0</td>\n",
       "      <td>24.0</td>\n",
       "      <td>105.0</td>\n",
       "    </tr>\n",
       "    <tr>\n",
       "      <th>2</th>\n",
       "      <td>4.0</td>\n",
       "      <td>9.0</td>\n",
       "      <td>12.0</td>\n",
       "      <td>38.0</td>\n",
       "      <td>73.0</td>\n",
       "    </tr>\n",
       "    <tr>\n",
       "      <th>3</th>\n",
       "      <td>4.0</td>\n",
       "      <td>8.0</td>\n",
       "      <td>25.0</td>\n",
       "      <td>55.0</td>\n",
       "      <td>109.0</td>\n",
       "    </tr>\n",
       "    <tr>\n",
       "      <th>4</th>\n",
       "      <td>9.0</td>\n",
       "      <td>31.0</td>\n",
       "      <td>108.0</td>\n",
       "      <td>335.0</td>\n",
       "      <td>969.0</td>\n",
       "    </tr>\n",
       "    <tr>\n",
       "      <th>...</th>\n",
       "      <td>...</td>\n",
       "      <td>...</td>\n",
       "      <td>...</td>\n",
       "      <td>...</td>\n",
       "      <td>...</td>\n",
       "    </tr>\n",
       "    <tr>\n",
       "      <th>52171</th>\n",
       "      <td>6.0</td>\n",
       "      <td>21.0</td>\n",
       "      <td>68.0</td>\n",
       "      <td>201.0</td>\n",
       "      <td>769.0</td>\n",
       "    </tr>\n",
       "    <tr>\n",
       "      <th>52172</th>\n",
       "      <td>6.0</td>\n",
       "      <td>24.0</td>\n",
       "      <td>84.0</td>\n",
       "      <td>142.0</td>\n",
       "      <td>211.0</td>\n",
       "    </tr>\n",
       "    <tr>\n",
       "      <th>52173</th>\n",
       "      <td>3.0</td>\n",
       "      <td>14.0</td>\n",
       "      <td>56.0</td>\n",
       "      <td>127.0</td>\n",
       "      <td>191.0</td>\n",
       "    </tr>\n",
       "    <tr>\n",
       "      <th>52174</th>\n",
       "      <td>3.0</td>\n",
       "      <td>12.0</td>\n",
       "      <td>42.0</td>\n",
       "      <td>82.0</td>\n",
       "      <td>204.0</td>\n",
       "    </tr>\n",
       "    <tr>\n",
       "      <th>52175</th>\n",
       "      <td>5.0</td>\n",
       "      <td>26.0</td>\n",
       "      <td>90.0</td>\n",
       "      <td>247.0</td>\n",
       "      <td>439.0</td>\n",
       "    </tr>\n",
       "  </tbody>\n",
       "</table>\n",
       "<p>52176 rows × 5 columns</p>\n",
       "</div>"
      ],
      "text/plain": [
       "        50   100    200    400    800\n",
       "0      2.0   3.0    4.0    8.0   94.0\n",
       "1      1.0   1.0    8.0   24.0  105.0\n",
       "2      4.0   9.0   12.0   38.0   73.0\n",
       "3      4.0   8.0   25.0   55.0  109.0\n",
       "4      9.0  31.0  108.0  335.0  969.0\n",
       "...    ...   ...    ...    ...    ...\n",
       "52171  6.0  21.0   68.0  201.0  769.0\n",
       "52172  6.0  24.0   84.0  142.0  211.0\n",
       "52173  3.0  14.0   56.0  127.0  191.0\n",
       "52174  3.0  12.0   42.0   82.0  204.0\n",
       "52175  5.0  26.0   90.0  247.0  439.0\n",
       "\n",
       "[52176 rows x 5 columns]"
      ]
     },
     "execution_count": 8,
     "metadata": {},
     "output_type": "execute_result"
    }
   ],
   "source": [
    "bocage_neighbor"
   ]
  },
  {
   "cell_type": "code",
   "execution_count": null,
   "metadata": {},
   "outputs": [],
   "source": []
  },
  {
   "cell_type": "code",
   "execution_count": null,
   "metadata": {},
   "outputs": [],
   "source": []
  },
  {
   "cell_type": "markdown",
   "metadata": {},
   "source": [
    "First, we calculate the generalized dimension for the scale range (radius) 50 - 800 m"
   ]
  },
  {
   "cell_type": "code",
   "execution_count": 9,
   "metadata": {},
   "outputs": [],
   "source": [
    "list_of_radius = np.array([50, 100,  200, 400, 800])"
   ]
  },
  {
   "cell_type": "code",
   "execution_count": 10,
   "metadata": {},
   "outputs": [],
   "source": [
    "bocage_scaling = scale_function(bocage_neighbor, np.arange(-5,5.5,0.5))\n",
    "bocage_scaling['Dq'] = bocage_scaling[list_of_radius.astype(str)].apply(lambda x :LinearRegression().fit(np.log2(list_of_radius).reshape(list_of_radius.size,1), x).coef_[0] , axis=1 )  \n",
    "openfield_scaling = scale_function(openfield_neighbor, np.arange(-5,5.5,0.5))\n",
    "openfield_scaling['Dq'] = openfield_scaling[list_of_radius.astype(str)].apply(lambda x :LinearRegression().fit(np.log2(list_of_radius).reshape(list_of_radius.size,1), x).coef_[0] , axis=1 )  "
   ]
  },
  {
   "cell_type": "code",
   "execution_count": 11,
   "metadata": {},
   "outputs": [
    {
     "data": {
      "text/html": [
       "<div>\n",
       "<style scoped>\n",
       "    .dataframe tbody tr th:only-of-type {\n",
       "        vertical-align: middle;\n",
       "    }\n",
       "\n",
       "    .dataframe tbody tr th {\n",
       "        vertical-align: top;\n",
       "    }\n",
       "\n",
       "    .dataframe thead th {\n",
       "        text-align: right;\n",
       "    }\n",
       "</style>\n",
       "<table border=\"1\" class=\"dataframe\">\n",
       "  <thead>\n",
       "    <tr style=\"text-align: right;\">\n",
       "      <th></th>\n",
       "      <th>50</th>\n",
       "      <th>100</th>\n",
       "      <th>200</th>\n",
       "      <th>400</th>\n",
       "      <th>800</th>\n",
       "      <th>q</th>\n",
       "      <th>Dq</th>\n",
       "    </tr>\n",
       "  </thead>\n",
       "  <tbody>\n",
       "    <tr>\n",
       "      <th>10</th>\n",
       "      <td>-14.169293</td>\n",
       "      <td>-13.14049</td>\n",
       "      <td>-12.19552</td>\n",
       "      <td>-10.86131</td>\n",
       "      <td>-8.982575</td>\n",
       "      <td>0.0</td>\n",
       "      <td>1.265262</td>\n",
       "    </tr>\n",
       "  </tbody>\n",
       "</table>\n",
       "</div>"
      ],
      "text/plain": [
       "           50       100       200       400       800    q        Dq\n",
       "10 -14.169293 -13.14049 -12.19552 -10.86131 -8.982575  0.0  1.265262"
      ]
     },
     "execution_count": 11,
     "metadata": {},
     "output_type": "execute_result"
    }
   ],
   "source": [
    "bocage_scaling[bocage_scaling.q==0] "
   ]
  },
  {
   "cell_type": "code",
   "execution_count": 12,
   "metadata": {},
   "outputs": [
    {
     "data": {
      "text/html": [
       "<div>\n",
       "<style scoped>\n",
       "    .dataframe tbody tr th:only-of-type {\n",
       "        vertical-align: middle;\n",
       "    }\n",
       "\n",
       "    .dataframe tbody tr th {\n",
       "        vertical-align: top;\n",
       "    }\n",
       "\n",
       "    .dataframe thead th {\n",
       "        text-align: right;\n",
       "    }\n",
       "</style>\n",
       "<table border=\"1\" class=\"dataframe\">\n",
       "  <thead>\n",
       "    <tr style=\"text-align: right;\">\n",
       "      <th></th>\n",
       "      <th>50</th>\n",
       "      <th>100</th>\n",
       "      <th>200</th>\n",
       "      <th>400</th>\n",
       "      <th>800</th>\n",
       "      <th>q</th>\n",
       "      <th>Dq</th>\n",
       "    </tr>\n",
       "  </thead>\n",
       "  <tbody>\n",
       "    <tr>\n",
       "      <th>10</th>\n",
       "      <td>-13.07839</td>\n",
       "      <td>-11.750958</td>\n",
       "      <td>-10.559997</td>\n",
       "      <td>-9.399287</td>\n",
       "      <td>-8.122739</td>\n",
       "      <td>0.0</td>\n",
       "      <td>1.226297</td>\n",
       "    </tr>\n",
       "  </tbody>\n",
       "</table>\n",
       "</div>"
      ],
      "text/plain": [
       "          50        100        200       400       800    q        Dq\n",
       "10 -13.07839 -11.750958 -10.559997 -9.399287 -8.122739  0.0  1.226297"
      ]
     },
     "execution_count": 12,
     "metadata": {},
     "output_type": "execute_result"
    }
   ],
   "source": [
    "openfield_scaling[openfield_scaling.q==0] "
   ]
  },
  {
   "cell_type": "code",
   "execution_count": 13,
   "metadata": {},
   "outputs": [],
   "source": [
    "openfield_scaling = openfield_scaling[openfield_scaling.q==0] [['50', '100', '200', '400', '800']].values.flatten()\n",
    "bocage_scaling = bocage_scaling[bocage_scaling.q==0] [['50', '100', '200', '400', '800']].values.flatten()\n",
    "bocage_scaling = pd.DataFrame({'radius':list_of_radius, 'Iq' : bocage_scaling, 'configuration':'Bocage'})\n",
    "openfield_scaling = pd.DataFrame({'radius':list_of_radius, 'Iq' : openfield_scaling, 'configuration':'Openfield'})"
   ]
  },
  {
   "cell_type": "code",
   "execution_count": 14,
   "metadata": {},
   "outputs": [],
   "source": [
    "scaling = pd.concat([bocage_scaling, openfield_scaling])"
   ]
  },
  {
   "cell_type": "code",
   "execution_count": 15,
   "metadata": {},
   "outputs": [],
   "source": [
    "openfield_scaling['Eq'] = 2**(openfield_scaling.Iq)\n",
    "bocage_scaling['Eq'] = 2**(bocage_scaling.Iq)"
   ]
  },
  {
   "cell_type": "code",
   "execution_count": 16,
   "metadata": {},
   "outputs": [],
   "source": [
    "d = np.polyfit(np.log2(openfield_scaling['radius']),openfield_scaling['Iq'],1)\n",
    "f = np.poly1d(d)\n",
    "openfield_scaling['line'] = 2**(f(np.log2(openfield_scaling['radius'])))\n",
    "\n",
    "d = np.polyfit(np.log2(bocage_scaling['radius']),bocage_scaling['Iq'],1)\n",
    "f = np.poly1d(d)\n",
    "bocage_scaling['line'] = 2**(f(np.log2(bocage_scaling['radius'])))"
   ]
  },
  {
   "cell_type": "code",
   "execution_count": 17,
   "metadata": {},
   "outputs": [
    {
     "data": {
      "text/html": [
       "<div>\n",
       "<style scoped>\n",
       "    .dataframe tbody tr th:only-of-type {\n",
       "        vertical-align: middle;\n",
       "    }\n",
       "\n",
       "    .dataframe tbody tr th {\n",
       "        vertical-align: top;\n",
       "    }\n",
       "\n",
       "    .dataframe thead th {\n",
       "        text-align: right;\n",
       "    }\n",
       "</style>\n",
       "<table border=\"1\" class=\"dataframe\">\n",
       "  <thead>\n",
       "    <tr style=\"text-align: right;\">\n",
       "      <th></th>\n",
       "      <th>x</th>\n",
       "      <th>y</th>\n",
       "      <th>geometry</th>\n",
       "    </tr>\n",
       "  </thead>\n",
       "  <tbody>\n",
       "    <tr>\n",
       "      <th>0</th>\n",
       "      <td>372429.338625</td>\n",
       "      <td>6.889692e+06</td>\n",
       "      <td>POINT (372429.339 6889692.480)</td>\n",
       "    </tr>\n",
       "    <tr>\n",
       "      <th>1</th>\n",
       "      <td>374231.481684</td>\n",
       "      <td>6.895974e+06</td>\n",
       "      <td>POINT (374231.482 6895973.851)</td>\n",
       "    </tr>\n",
       "    <tr>\n",
       "      <th>2</th>\n",
       "      <td>374200.719452</td>\n",
       "      <td>6.896474e+06</td>\n",
       "      <td>POINT (374200.719 6896473.663)</td>\n",
       "    </tr>\n",
       "    <tr>\n",
       "      <th>3</th>\n",
       "      <td>373510.600835</td>\n",
       "      <td>6.897412e+06</td>\n",
       "      <td>POINT (373510.601 6897411.666)</td>\n",
       "    </tr>\n",
       "    <tr>\n",
       "      <th>4</th>\n",
       "      <td>375288.234111</td>\n",
       "      <td>6.892853e+06</td>\n",
       "      <td>POINT (375288.234 6892853.239)</td>\n",
       "    </tr>\n",
       "    <tr>\n",
       "      <th>...</th>\n",
       "      <td>...</td>\n",
       "      <td>...</td>\n",
       "      <td>...</td>\n",
       "    </tr>\n",
       "    <tr>\n",
       "      <th>52171</th>\n",
       "      <td>375128.573035</td>\n",
       "      <td>6.892089e+06</td>\n",
       "      <td>POINT (375128.573 6892089.382)</td>\n",
       "    </tr>\n",
       "    <tr>\n",
       "      <th>52172</th>\n",
       "      <td>372712.002403</td>\n",
       "      <td>6.890812e+06</td>\n",
       "      <td>POINT (372712.002 6890811.857)</td>\n",
       "    </tr>\n",
       "    <tr>\n",
       "      <th>52173</th>\n",
       "      <td>373157.725598</td>\n",
       "      <td>6.888533e+06</td>\n",
       "      <td>POINT (373157.726 6888533.225)</td>\n",
       "    </tr>\n",
       "    <tr>\n",
       "      <th>52174</th>\n",
       "      <td>373345.917076</td>\n",
       "      <td>6.886369e+06</td>\n",
       "      <td>POINT (373345.917 6886369.018)</td>\n",
       "    </tr>\n",
       "    <tr>\n",
       "      <th>52175</th>\n",
       "      <td>373191.545660</td>\n",
       "      <td>6.883539e+06</td>\n",
       "      <td>POINT (373191.546 6883538.602)</td>\n",
       "    </tr>\n",
       "  </tbody>\n",
       "</table>\n",
       "<p>52176 rows × 3 columns</p>\n",
       "</div>"
      ],
      "text/plain": [
       "                   x             y                        geometry\n",
       "0      372429.338625  6.889692e+06  POINT (372429.339 6889692.480)\n",
       "1      374231.481684  6.895974e+06  POINT (374231.482 6895973.851)\n",
       "2      374200.719452  6.896474e+06  POINT (374200.719 6896473.663)\n",
       "3      373510.600835  6.897412e+06  POINT (373510.601 6897411.666)\n",
       "4      375288.234111  6.892853e+06  POINT (375288.234 6892853.239)\n",
       "...              ...           ...                             ...\n",
       "52171  375128.573035  6.892089e+06  POINT (375128.573 6892089.382)\n",
       "52172  372712.002403  6.890812e+06  POINT (372712.002 6890811.857)\n",
       "52173  373157.725598  6.888533e+06  POINT (373157.726 6888533.225)\n",
       "52174  373345.917076  6.886369e+06  POINT (373345.917 6886369.018)\n",
       "52175  373191.545660  6.883539e+06  POINT (373191.546 6883538.602)\n",
       "\n",
       "[52176 rows x 3 columns]"
      ]
     },
     "execution_count": 17,
     "metadata": {},
     "output_type": "execute_result"
    }
   ],
   "source": [
    "bocage"
   ]
  },
  {
   "cell_type": "code",
   "execution_count": null,
   "metadata": {},
   "outputs": [],
   "source": []
  },
  {
   "cell_type": "code",
   "execution_count": 18,
   "metadata": {},
   "outputs": [
    {
     "name": "stderr",
     "output_type": "stream",
     "text": [
      "findfont: Font family ['normal'] not found. Falling back to DejaVu Sans.\n"
     ]
    },
    {
     "data": {
      "image/png": "[encoded data removed]",
      "text/plain": [
       "<Figure size 720x504 with 1 Axes>"
      ]
     },
     "metadata": {
      "needs_background": "light"
     },
     "output_type": "display_data"
    }
   ],
   "source": [
    "\n",
    "font = {'family' : 'normal',\n",
    "        'weight' : 'normal',\n",
    "        'size'   : 15}\n",
    "import matplotlib\n",
    "matplotlib.rc('font', **font)\n",
    "plt.rcParams['axes.axisbelow'] = True\n",
    "\n",
    "ax = openfield_scaling.plot.scatter('radius','Eq', loglog=True, figsize=(10,7), c='red')\n",
    "bocage_scaling.plot.scatter('radius','Eq', loglog=True, figsize=(10,7), c='blue', ax=ax)\n",
    "ax.set_xlim((40,1000))\n",
    "ax.set_ylim((bocage_scaling.Eq.min()-0.00001, openfield_scaling.Eq.max()+0.001))\n",
    "plt.grid(which='both')\n",
    "openfield_scaling.plot.line('radius', 'line',color='Red',ax=ax, legend=False, label='Openfield')\n",
    "bocage_scaling.plot.line('radius', 'line',color='blue',ax=ax, legend=False, label ='Bocage')\n",
    "ax.set_xlabel('Diamètre du voisinage (en m.)')\n",
    "ax.set_ylabel('Mr(i)')\n",
    "box = ax.get_position()\n",
    "ax.set_position([box.x0, box.y0 + box.height * 0.1,\n",
    "                 box.width, box.height * 0.9])\n",
    "\n",
    "ax.legend(loc='upper center', bbox_to_anchor=(0.5, -.12),\n",
    "          fancybox=True, shadow=True, ncol=5)\n",
    "\n",
    "plt.savefig('figure7_2.pdf', format='pdf')"
   ]
  },
  {
   "cell_type": "code",
   "execution_count": 19,
   "metadata": {},
   "outputs": [],
   "source": [
    "r = np.array([50, 100, 200, 400, 800])\n"
   ]
  },
  {
   "cell_type": "code",
   "execution_count": 20,
   "metadata": {},
   "outputs": [
    {
     "data": {
      "text/plain": [
       "array([[-4.47213595e-01, -6.32455532e-01,  5.34522484e-01],\n",
       "       [-4.47213595e-01, -3.16227766e-01, -2.67261242e-01],\n",
       "       [-4.47213595e-01, -5.55111512e-17, -5.34522484e-01],\n",
       "       [-4.47213595e-01,  3.16227766e-01, -2.67261242e-01],\n",
       "       [-4.47213595e-01,  6.32455532e-01,  5.34522484e-01]])"
      ]
     },
     "execution_count": 20,
     "metadata": {},
     "output_type": "execute_result"
    }
   ],
   "source": [
    "logr = np.log2(r)\n",
    "mat = np.array([[1,1,1,1,1] ,logr, logr**2]).T\n",
    "ormat = np.linalg.qr(mat)[0]\n",
    "ormat"
   ]
  },
  {
   "cell_type": "code",
   "execution_count": 21,
   "metadata": {},
   "outputs": [],
   "source": [
    "P1 = (logr - np.mean(logr))\n",
    "P2 = (ormat[:,2] / np.std(ormat[:,2]) * 4/np.sqrt(5))"
   ]
  },
  {
   "cell_type": "code",
   "execution_count": 22,
   "metadata": {},
   "outputs": [
    {
     "data": {
      "text/plain": [
       "array([ 2.13808994, -1.06904497, -2.13808994, -1.06904497,  2.13808994])"
      ]
     },
     "execution_count": 22,
     "metadata": {},
     "output_type": "execute_result"
    }
   ],
   "source": [
    "P2"
   ]
  },
  {
   "cell_type": "code",
   "execution_count": 23,
   "metadata": {},
   "outputs": [],
   "source": [
    "polynome = pd.DataFrame({'r':r, 'P1': P1, 'P2':P2})\n",
    "polynome['logr'] = logr"
   ]
  },
  {
   "cell_type": "code",
   "execution_count": 24,
   "metadata": {},
   "outputs": [
    {
     "data": {
      "image/png": "[encoded data removed]",
      "text/plain": [
       "<Figure size 720x504 with 1 Axes>"
      ]
     },
     "metadata": {
      "needs_background": "light"
     },
     "output_type": "display_data"
    }
   ],
   "source": [
    "ax=polynome.plot.scatter('logr', 'P1', c='red', figsize=(10,7))\n",
    "polynome.plot.line('logr','P1', color='red', ax=ax, label='Polynôme de degré 1')\n",
    "polynome.plot.scatter('logr', 'P2', c='blue', ax=ax)\n",
    "polynome.plot.line('logr','P2', color='blue', ax=ax, label='Polynôme de degré 2')\n",
    "plt.grid(which='both')\n",
    "ax.set_ylabel('valeur')\n",
    "ax.set_xlabel('$log(r)$')\n",
    "box = ax.get_position()\n",
    "ax.set_position([box.x0, box.y0 + box.height * 0.1,\n",
    "                 box.width, box.height * 0.9])\n",
    "\n",
    "# Put a legend below current axis\n",
    "ax.legend(loc='upper center', bbox_to_anchor=(0.5, -.12),\n",
    "          fancybox=True, shadow=True, ncol=5)\n",
    "plt.savefig('figure7_10a.pdf', format='pdf')"
   ]
  },
  {
   "cell_type": "code",
   "execution_count": 25,
   "metadata": {},
   "outputs": [
    {
     "data": {
      "image/png": "[encoded data removed]",
      "text/plain": [
       "<Figure size 720x504 with 1 Axes>"
      ]
     },
     "metadata": {
      "needs_background": "light"
     },
     "output_type": "display_data"
    }
   ],
   "source": [
    "derive = pd.DataFrame({\"derive1\" : P1[1:] - P1[:4],\"derive2\" : P2[1:] - P2[:4], 'échelle':['50-100', '100-200', '200-400', '400-800']})\n",
    "ax = derive.plot.scatter('échelle','derive1', figsize=(10,7), c='red')\n",
    "derive.plot.scatter('échelle','derive2', c='blue', ax=ax)\n",
    "\n",
    "derive.plot.line('échelle','derive1',ax=ax, legend=False, label='Polynôme de degré 1', color='red')\n",
    "derive.plot.line('échelle','derive2',color='blue',ax=ax, legend=False, label ='Polynôme de degré 2')\n",
    "plt.legend( loc='lower right', borderaxespad=0.)\n",
    "plt.grid(which='both')\n",
    "ax.set_ylabel('Taux de Variation')\n",
    "ax.legend(loc='upper center', bbox_to_anchor=(0.5, -.1),\n",
    "          fancybox=True, shadow=True, ncol=5)\n",
    "plt.savefig('figure7_10b.pdf', format='pdf')\n"
   ]
  },
  {
   "cell_type": "code",
   "execution_count": null,
   "metadata": {},
   "outputs": [],
   "source": []
  },
  {
   "cell_type": "code",
   "execution_count": 26,
   "metadata": {},
   "outputs": [
    {
     "name": "stdout",
     "output_type": "stream",
     "text": [
      "0   -13.078390\n",
      "1   -11.750958\n",
      "2   -10.559997\n",
      "3    -9.399287\n",
      "4    -8.122739\n",
      "Name: Eq, dtype: float64\n"
     ]
    },
    {
     "data": {
      "text/html": [
       "<div>\n",
       "<style scoped>\n",
       "    .dataframe tbody tr th:only-of-type {\n",
       "        vertical-align: middle;\n",
       "    }\n",
       "\n",
       "    .dataframe tbody tr th {\n",
       "        vertical-align: top;\n",
       "    }\n",
       "\n",
       "    .dataframe thead th {\n",
       "        text-align: right;\n",
       "    }\n",
       "</style>\n",
       "<table border=\"1\" class=\"dataframe\">\n",
       "  <thead>\n",
       "    <tr style=\"text-align: right;\">\n",
       "      <th></th>\n",
       "      <th>radius</th>\n",
       "      <th>Iq</th>\n",
       "      <th>configuration</th>\n",
       "      <th>Eq</th>\n",
       "      <th>line</th>\n",
       "    </tr>\n",
       "  </thead>\n",
       "  <tbody>\n",
       "    <tr>\n",
       "      <th>0</th>\n",
       "      <td>50</td>\n",
       "      <td>-13.078390</td>\n",
       "      <td>Openfield</td>\n",
       "      <td>0.000116</td>\n",
       "      <td>0.000119</td>\n",
       "    </tr>\n",
       "    <tr>\n",
       "      <th>1</th>\n",
       "      <td>100</td>\n",
       "      <td>-11.750958</td>\n",
       "      <td>Openfield</td>\n",
       "      <td>0.000290</td>\n",
       "      <td>0.000279</td>\n",
       "    </tr>\n",
       "    <tr>\n",
       "      <th>2</th>\n",
       "      <td>200</td>\n",
       "      <td>-10.559997</td>\n",
       "      <td>Openfield</td>\n",
       "      <td>0.000662</td>\n",
       "      <td>0.000652</td>\n",
       "    </tr>\n",
       "    <tr>\n",
       "      <th>3</th>\n",
       "      <td>400</td>\n",
       "      <td>-9.399287</td>\n",
       "      <td>Openfield</td>\n",
       "      <td>0.001481</td>\n",
       "      <td>0.001526</td>\n",
       "    </tr>\n",
       "    <tr>\n",
       "      <th>4</th>\n",
       "      <td>800</td>\n",
       "      <td>-8.122739</td>\n",
       "      <td>Openfield</td>\n",
       "      <td>0.003588</td>\n",
       "      <td>0.003570</td>\n",
       "    </tr>\n",
       "  </tbody>\n",
       "</table>\n",
       "</div>"
      ],
      "text/plain": [
       "   radius         Iq configuration        Eq      line\n",
       "0      50 -13.078390     Openfield  0.000116  0.000119\n",
       "1     100 -11.750958     Openfield  0.000290  0.000279\n",
       "2     200 -10.559997     Openfield  0.000662  0.000652\n",
       "3     400  -9.399287     Openfield  0.001481  0.001526\n",
       "4     800  -8.122739     Openfield  0.003588  0.003570"
      ]
     },
     "execution_count": 26,
     "metadata": {},
     "output_type": "execute_result"
    }
   ],
   "source": [
    "print(np.log2(openfield_scaling.Eq))\n",
    "openfield_scaling"
   ]
  },
  {
   "cell_type": "code",
   "execution_count": 27,
   "metadata": {},
   "outputs": [],
   "source": [
    "fd = (np.log2(bocage_scaling.Eq[1:]).to_numpy() - np.log2(bocage_scaling.Eq[:4]).to_numpy()) \n",
    "fd_bocage = pd.DataFrame({'Taux de Variation': fd, 'échelle': ['50-100', '100-200', '200-400', '400-800']})\n",
    "fd_bocage['territoire'] = 'Bocage'\n",
    "fd = (np.log2(openfield_scaling.Eq[1:]).to_numpy() - np.log2(openfield_scaling.Eq[:4]).to_numpy()) \n",
    "fd_openfield = pd.DataFrame({'Taux de Variation': fd, 'échelle': ['50-100', '100-200', '200-400', '400-800']})\n",
    "fd_openfield['territoire'] = 'Openfield'\n",
    "fd = pd.concat([fd_bocage,fd_openfield])"
   ]
  },
  {
   "cell_type": "code",
   "execution_count": 28,
   "metadata": {},
   "outputs": [
    {
     "data": {
      "text/html": [
       "<div>\n",
       "<style scoped>\n",
       "    .dataframe tbody tr th:only-of-type {\n",
       "        vertical-align: middle;\n",
       "    }\n",
       "\n",
       "    .dataframe tbody tr th {\n",
       "        vertical-align: top;\n",
       "    }\n",
       "\n",
       "    .dataframe thead th {\n",
       "        text-align: right;\n",
       "    }\n",
       "</style>\n",
       "<table border=\"1\" class=\"dataframe\">\n",
       "  <thead>\n",
       "    <tr style=\"text-align: right;\">\n",
       "      <th></th>\n",
       "      <th>Taux de Variation</th>\n",
       "      <th>échelle</th>\n",
       "      <th>territoire</th>\n",
       "    </tr>\n",
       "  </thead>\n",
       "  <tbody>\n",
       "    <tr>\n",
       "      <th>0</th>\n",
       "      <td>1.327433</td>\n",
       "      <td>50-100</td>\n",
       "      <td>Openfield</td>\n",
       "    </tr>\n",
       "    <tr>\n",
       "      <th>1</th>\n",
       "      <td>1.190960</td>\n",
       "      <td>100-200</td>\n",
       "      <td>Openfield</td>\n",
       "    </tr>\n",
       "    <tr>\n",
       "      <th>2</th>\n",
       "      <td>1.160710</td>\n",
       "      <td>200-400</td>\n",
       "      <td>Openfield</td>\n",
       "    </tr>\n",
       "    <tr>\n",
       "      <th>3</th>\n",
       "      <td>1.276548</td>\n",
       "      <td>400-800</td>\n",
       "      <td>Openfield</td>\n",
       "    </tr>\n",
       "  </tbody>\n",
       "</table>\n",
       "</div>"
      ],
      "text/plain": [
       "   Taux de Variation  échelle territoire\n",
       "0           1.327433   50-100  Openfield\n",
       "1           1.190960  100-200  Openfield\n",
       "2           1.160710  200-400  Openfield\n",
       "3           1.276548  400-800  Openfield"
      ]
     },
     "execution_count": 28,
     "metadata": {},
     "output_type": "execute_result"
    }
   ],
   "source": [
    "fd_openfield"
   ]
  },
  {
   "cell_type": "code",
   "execution_count": 29,
   "metadata": {
    "scrolled": true
   },
   "outputs": [
    {
     "data": {
      "image/png": "[encoded data removed]",
      "text/plain": [
       "<Figure size 720x504 with 1 Axes>"
      ]
     },
     "metadata": {
      "needs_background": "light"
     },
     "output_type": "display_data"
    }
   ],
   "source": [
    "\n",
    "font = {'family' : 'normal',\n",
    "        'weight' : 'normal',\n",
    "        'size'   : 15}\n",
    "\n",
    "\n",
    "\n",
    "matplotlib.rc('font', **font)\n",
    "ax = fd_openfield.plot.scatter('échelle','Taux de Variation', figsize=(10,7), c='red')\n",
    "fd_bocage.plot.scatter('échelle','Taux de Variation', c='blue', ax=ax)\n",
    "\n",
    "fd_openfield.plot.line('échelle','Taux de Variation',ax=ax, legend=False, label='Openfield', color='red')\n",
    "fd_bocage.plot.line('échelle','Taux de Variation',color='blue',ax=ax, legend=False, label ='Bocage')\n",
    "plt.legend( loc='lower right', borderaxespad=0.)\n",
    "plt.grid(which='both')\n",
    "\n",
    "ax.legend(loc='upper center', bbox_to_anchor=(0.5, -.1),\n",
    "          fancybox=True, shadow=True, ncol=5)\n",
    "\n",
    "plt.savefig('figure7_4.pdf', format='pdf')"
   ]
  },
  {
   "cell_type": "code",
   "execution_count": 30,
   "metadata": {},
   "outputs": [],
   "source": [
    "from scipy import stats"
   ]
  },
  {
   "cell_type": "code",
   "execution_count": 31,
   "metadata": {},
   "outputs": [
    {
     "data": {
      "text/html": [
       "<div>\n",
       "<style scoped>\n",
       "    .dataframe tbody tr th:only-of-type {\n",
       "        vertical-align: middle;\n",
       "    }\n",
       "\n",
       "    .dataframe tbody tr th {\n",
       "        vertical-align: top;\n",
       "    }\n",
       "\n",
       "    .dataframe thead th {\n",
       "        text-align: right;\n",
       "    }\n",
       "</style>\n",
       "<table border=\"1\" class=\"dataframe\">\n",
       "  <thead>\n",
       "    <tr style=\"text-align: right;\">\n",
       "      <th></th>\n",
       "      <th>radius</th>\n",
       "      <th>Iq</th>\n",
       "      <th>configuration</th>\n",
       "      <th>Eq</th>\n",
       "      <th>line</th>\n",
       "    </tr>\n",
       "  </thead>\n",
       "  <tbody>\n",
       "    <tr>\n",
       "      <th>0</th>\n",
       "      <td>50</td>\n",
       "      <td>-13.078390</td>\n",
       "      <td>Openfield</td>\n",
       "      <td>0.000116</td>\n",
       "      <td>0.000119</td>\n",
       "    </tr>\n",
       "    <tr>\n",
       "      <th>1</th>\n",
       "      <td>100</td>\n",
       "      <td>-11.750958</td>\n",
       "      <td>Openfield</td>\n",
       "      <td>0.000290</td>\n",
       "      <td>0.000279</td>\n",
       "    </tr>\n",
       "    <tr>\n",
       "      <th>2</th>\n",
       "      <td>200</td>\n",
       "      <td>-10.559997</td>\n",
       "      <td>Openfield</td>\n",
       "      <td>0.000662</td>\n",
       "      <td>0.000652</td>\n",
       "    </tr>\n",
       "    <tr>\n",
       "      <th>3</th>\n",
       "      <td>400</td>\n",
       "      <td>-9.399287</td>\n",
       "      <td>Openfield</td>\n",
       "      <td>0.001481</td>\n",
       "      <td>0.001526</td>\n",
       "    </tr>\n",
       "    <tr>\n",
       "      <th>4</th>\n",
       "      <td>800</td>\n",
       "      <td>-8.122739</td>\n",
       "      <td>Openfield</td>\n",
       "      <td>0.003588</td>\n",
       "      <td>0.003570</td>\n",
       "    </tr>\n",
       "  </tbody>\n",
       "</table>\n",
       "</div>"
      ],
      "text/plain": [
       "   radius         Iq configuration        Eq      line\n",
       "0      50 -13.078390     Openfield  0.000116  0.000119\n",
       "1     100 -11.750958     Openfield  0.000290  0.000279\n",
       "2     200 -10.559997     Openfield  0.000662  0.000652\n",
       "3     400  -9.399287     Openfield  0.001481  0.001526\n",
       "4     800  -8.122739     Openfield  0.003588  0.003570"
      ]
     },
     "execution_count": 31,
     "metadata": {},
     "output_type": "execute_result"
    }
   ],
   "source": [
    "openfield_scaling"
   ]
  },
  {
   "cell_type": "code",
   "execution_count": 32,
   "metadata": {},
   "outputs": [],
   "source": [
    "d = np.polyfit(np.log2(bocage_scaling['radius']),bocage_scaling['Iq'],1)\n",
    "f = np.poly1d(d)\n",
    "toto = f(np.log2(bocage_scaling['radius']))\n",
    "fd_bocage['P1'] = toto[1:] - toto[:4] \n",
    "d = np.polyfit(np.log2(bocage_scaling['radius']),bocage_scaling['Iq'],2)\n",
    "f = np.poly1d(d)\n",
    "toto = f(np.log2(bocage_scaling['radius']))\n",
    "fd_bocage['P2'] = toto[1:] - toto[:4] \n",
    "\n"
   ]
  },
  {
   "cell_type": "code",
   "execution_count": 33,
   "metadata": {},
   "outputs": [],
   "source": [
    "d = np.polyfit(np.log2(openfield_scaling['radius']),openfield_scaling['Iq'],1)\n",
    "f = np.poly1d(d)\n",
    "toto = f(np.log2(openfield_scaling['radius']))\n",
    "fd_openfield['P1'] = toto[1:] - toto[:4] \n",
    "d = np.polyfit(np.log2(openfield_scaling['radius']),openfield_scaling['Iq'],2)\n",
    "f = np.poly1d(d)\n",
    "toto = f(np.log2(openfield_scaling['radius']))\n",
    "fd_openfield['P2'] = toto[1:] - toto[:4] \n"
   ]
  },
  {
   "cell_type": "code",
   "execution_count": 34,
   "metadata": {},
   "outputs": [
    {
     "data": {
      "image/png": "[encoded data removed]",
      "text/plain": [
       "<Figure size 720x504 with 1 Axes>"
      ]
     },
     "metadata": {
      "needs_background": "light"
     },
     "output_type": "display_data"
    }
   ],
   "source": [
    "ax = fd_bocage.plot.scatter('échelle','Taux de Variation', figsize=(10,7), c='blue')\n",
    "fd_bocage.plot.line('échelle','Taux de Variation',ax=ax, legend=False, label='Signature trans-échelle', color='blue')\n",
    "fd_bocage.plot.scatter('échelle','P1',ax=ax, legend=False, label='Dimension fractale estimée', c='red')\n",
    "fd_bocage.plot.line('échelle','P1',ax=ax, legend=False, label='Dimension fractale estimée', color='red')\n",
    "fd_bocage.plot.scatter('échelle','P2',ax=ax, legend=False, label='Dimension fractale estimée', c='green')\n",
    "fd_bocage.plot.line('échelle','P2',ax=ax, legend=False, label=\"Ecart à l'invariance d'échelle\", color='green')\n",
    "ax.set_ylim((0.75,2))\n",
    "\n",
    "plt.legend( loc='lower right', borderaxespad=0.)\n",
    "plt.grid(which='both')\n",
    "\n",
    "ax.legend(loc='upper center', bbox_to_anchor=(0.5, -.1),\n",
    "          fancybox=True, shadow=True, ncol=5)\n",
    "plt.savefig('figure7_11a.pdf', format='pdf')\n"
   ]
  },
  {
   "cell_type": "code",
   "execution_count": 35,
   "metadata": {},
   "outputs": [
    {
     "data": {
      "image/png": "[encoded data removed]",
      "text/plain": [
       "<Figure size 720x504 with 1 Axes>"
      ]
     },
     "metadata": {
      "needs_background": "light"
     },
     "output_type": "display_data"
    }
   ],
   "source": [
    "ax = fd_openfield.plot.scatter('échelle','Taux de Variation', figsize=(10,7), c='blue')\n",
    "fd_openfield.plot.line('échelle','Taux de Variation',ax=ax, legend=False, label='Signature trans-échelle', color='blue')\n",
    "fd_openfield.plot.line('échelle','P1',ax=ax, legend=False, label='Dimension fractale estimée', color='red')\n",
    "fd_openfield.plot.line('échelle','P2',ax=ax, legend=False, label=\"Ecart à l'invariance d'échelle\", color='green')\n",
    "fd_openfield.plot.scatter('échelle','P1',ax=ax, legend=False, c='red')\n",
    "fd_openfield.plot.scatter('échelle','P2',ax=ax, legend=False, c='green')\n",
    "\n",
    "plt.legend( loc='lower right', borderaxespad=0.)\n",
    "plt.grid(which='both')\n",
    "ax.set_ylim((0.75,2))\n",
    "ax.legend(loc='upper center', bbox_to_anchor=(0.5, -.1),\n",
    "          fancybox=True, shadow=True, ncol=5)\n",
    "plt.savefig('figure7_11b.pdf', format='pdf')"
   ]
  },
  {
   "cell_type": "code",
   "execution_count": null,
   "metadata": {},
   "outputs": [],
   "source": []
  },
  {
   "cell_type": "code",
   "execution_count": null,
   "metadata": {},
   "outputs": [],
   "source": []
  },
  {
   "cell_type": "code",
   "execution_count": null,
   "metadata": {},
   "outputs": [],
   "source": []
  },
  {
   "cell_type": "code",
   "execution_count": null,
   "metadata": {},
   "outputs": [],
   "source": []
  }
 ],
 "metadata": {
  "kernelspec": {
   "display_name": "Python 3 (ipykernel)",
   "language": "python",
   "name": "python3"
  },
  "language_info": {
   "codemirror_mode": {
    "name": "ipython",
    "version": 3
   },
   "file_extension": ".py",
   "mimetype": "text/x-python",
   "name": "python",
   "nbconvert_exporter": "python",
   "pygments_lexer": "ipython3",
   "version": "3.9.7"
  }
 },
 "nbformat": 4,
 "nbformat_minor": 4
}
